{
 "cells": [
  {
   "cell_type": "code",
   "execution_count": 2,
   "metadata": {},
   "outputs": [
    {
     "name": "stdout",
     "output_type": "stream",
     "text": [
      "acadgildacadgildacadgildacadgildacadgild\n"
     ]
    }
   ],
   "source": [
    "# Define a lambda function: echo_name\n",
    "echo_name = (lambda name1,echo_int:name1*echo_int)\n",
    "# Call echo_name with parameters (\"acadgild\",5)\n",
    "result = echo_name (\"acadgild\",5)\n",
    "# Print result\n",
    "print(result)"
   ]
  },
  {
   "cell_type": "markdown",
   "metadata": {},
   "source": [
    "## 2) Convert temperature in Celsius to Fahrenheit using map() and lambda\n",
    "functions\n",
    "Sample input\n",
    "Celsius = [49.2, 26.5, 47.3, 47.8]\n",
    "Expected Output\n",
    "[120.56, 79.7, 117.14, 118.03999999999999]"
   ]
  },
  {
   "cell_type": "code",
   "execution_count": 4,
   "metadata": {},
   "outputs": [
    {
     "name": "stdout",
     "output_type": "stream",
     "text": [
      "[120.56, 79.7, 117.14, 118.03999999999999]\n"
     ]
    }
   ],
   "source": [
    "# Initialize list\n",
    "Celsius = [49.2, 26.5, 47.3, 47.8]\n",
    "#use map() and lambda,convert to Fahrenheit\n",
    "def convert(temp):\n",
    "    return 9.0/5.0 * temp + 32\n",
    "#map(function,list)\n",
    "Fahrenheit = list(map(convert,Celsius))\n",
    "#print Fahrenheit\n",
    "print(Fahrenheit)"
   ]
  },
  {
   "cell_type": "markdown",
   "metadata": {},
   "source": [
    "## 3.The function filter(function, list) filters out all the elements of a list, for\n",
    "which the function function returns True.\n",
    "The function filter(f,l) needs a function f as its first argument. f re\n",
    "turns a Boolean value, i.e. either True or False. This function will be\n",
    "applied to every element of the list l. Only if f returns True will the\n",
    "element of the list be included in the result list\n",
    "Q. print the letters that are vowels using filter and lambda functions\n",
    "sample_string = \"Welcome to AcadGild\"\n",
    "Expected Output\n",
    "[0, 2, 8, 34]"
   ]
  },
  {
   "cell_type": "code",
   "execution_count": 9,
   "metadata": {},
   "outputs": [
    {
     "name": "stdout",
     "output_type": "stream",
     "text": [
      "['e', 'o', 'e', 'o', 'A', 'a', 'i']\n"
     ]
    }
   ],
   "source": [
    "sample_string = \"Welcome to AcadGild\"\n",
    "\n",
    "def filter(f,list_ex):\n",
    "    return [x for x in list_ex if f(x)] \n",
    "\n",
    "def f(word):\n",
    "    return True if word.lower() in['a','e','i','o','u'] else False\n",
    "\n",
    "print(filter(f,sample_string))\n",
    "\n",
    "\n",
    "    "
   ]
  },
  {
   "cell_type": "markdown",
   "metadata": {},
   "source": [
    "## 4) Use generator expression to print out only alphabets from the following\n",
    "string\n",
    "string = \"123@Welc34ometo12@ac#adGild\""
   ]
  },
  {
   "cell_type": "code",
   "execution_count": 8,
   "metadata": {},
   "outputs": [
    {
     "name": "stdout",
     "output_type": "stream",
     "text": [
      "WelcometoacadGild"
     ]
    }
   ],
   "source": [
    "string = \"123@Welc34ometo12@ac#adGild\"\n",
    "abc=((x if x.isalpha() else '') for x in string)\n",
    "for a in abc:\n",
    "    print(a,end=\"\")"
   ]
  },
  {
   "cell_type": "markdown",
   "metadata": {},
   "source": [
    "## 5) Implement a function longestWord() that takes a list of words and returns\n",
    "the longest one.\n",
    "Sample Word List\n",
    "word= [\"January\",\"Feburary\",\"March\",\"April\",\"May\",\"June\",\"July\"]\n",
    "Expected Output\n",
    "['Feburary']"
   ]
  },
  {
   "cell_type": "code",
   "execution_count": 20,
   "metadata": {},
   "outputs": [
    {
     "name": "stdout",
     "output_type": "stream",
     "text": [
      "['Feburary']\n"
     ]
    }
   ],
   "source": [
    "# Initialize the list\n",
    "word= [\"January\",\"Feburary\",\"March\",\"April\",\"May\",\"June\",\"July\"]\n",
    "#define function named longestWord with one parameter (arg_word)\n",
    "def longestWord(arg_word):\n",
    "#use len(max()) to apply the logic\n",
    "    max_len = len(max(arg_word,key=len))\n",
    "# iterate over the list arg_word and check which word has length = max_len and print\n",
    "    return [x for x in arg_word if len(x) == max_len]\n",
    "#function call : longestWord and pass the list \"word\" as the parameter\n",
    "print(longestWord(word))"
   ]
  },
  {
   "cell_type": "code",
   "execution_count": null,
   "metadata": {},
   "outputs": [],
   "source": []
  }
 ],
 "metadata": {
  "kernelspec": {
   "display_name": "Python 3",
   "language": "python",
   "name": "python3"
  },
  "language_info": {
   "codemirror_mode": {
    "name": "ipython",
    "version": 3
   },
   "file_extension": ".py",
   "mimetype": "text/x-python",
   "name": "python",
   "nbconvert_exporter": "python",
   "pygments_lexer": "ipython3",
   "version": "3.6.5"
  }
 },
 "nbformat": 4,
 "nbformat_minor": 2
}
